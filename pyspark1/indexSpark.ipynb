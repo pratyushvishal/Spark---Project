{
 "cells": [
  {
   "cell_type": "code",
   "execution_count": 8,
   "metadata": {},
   "outputs": [],
   "source": [
    "from pyspark import SparkConf\n",
    "from pyspark.sql import *\n",
    "from lib.logger import Log4J\n"
   ]
  },
  {
   "cell_type": "code",
   "execution_count": 9,
   "metadata": {},
   "outputs": [
    {
     "name": "stdout",
     "output_type": "stream",
     "text": [
      "hello\n"
     ]
    }
   ],
   "source": [
    "\n",
    "#Creating spark driver\n",
    "if __name__ == \"__main__\":\n",
    "    spark = SparkSession.builder\\\n",
    "    .appName(\"HelloSpark\")\\\n",
    "    .master(\"local[3]\")\\\n",
    "    .getOrCreate()\n",
    "\n",
    "    logger = Log4J(spark)\n",
    "\n",
    "    logger.info(\"Starting indexSpark\")\n",
    "    print(\"hello\")\n",
    "    logger.info(\"Finished indexSpark\")\n",
    "    spark.stop()"
   ]
  },
  {
   "cell_type": "code",
   "execution_count": null,
   "metadata": {},
   "outputs": [],
   "source": []
  }
 ],
 "metadata": {
  "kernelspec": {
   "display_name": "Python 3",
   "language": "python",
   "name": "python3"
  },
  "language_info": {
   "codemirror_mode": {
    "name": "ipython",
    "version": 3
   },
   "file_extension": ".py",
   "mimetype": "text/x-python",
   "name": "python",
   "nbconvert_exporter": "python",
   "pygments_lexer": "ipython3",
   "version": "3.11.9"
  }
 },
 "nbformat": 4,
 "nbformat_minor": 2
}
