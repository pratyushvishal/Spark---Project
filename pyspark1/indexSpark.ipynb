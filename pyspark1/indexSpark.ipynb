{
 "cells": [
  {
   "cell_type": "code",
   "execution_count": 55,
   "metadata": {},
   "outputs": [],
   "source": [
    "from pyspark import SparkConf\n",
    "from pyspark.sql import *\n",
    "from lib.logger import Log4J\n",
    "from lib.utils import get_spark_app_config\n",
    "from pyspark.sql.functions import *\n",
    "\n",
    "\n",
    "#Creating spark driver\n",
    "if __name__ == \"__main__\":\n",
    "\n",
    "    conf = get_spark_app_config()\n",
    "    spark = SparkSession.builder\\\n",
    "    .config(conf = conf)\\\n",
    "    .getOrCreate()\n",
    "\n",
    "    logger = Log4J(spark)\n",
    "    #check if file exists\n",
    "\n",
    "    logger.info(\"Starting indexSpark\")\n",
    "\n",
    "\n",
    "\n",
    "\n",
    "    \n",
    "    \n",
    "    \n"
   ]
  },
  {
   "cell_type": "code",
   "execution_count": 57,
   "metadata": {},
   "outputs": [
    {
     "name": "stdout",
     "output_type": "stream",
     "text": [
      "+----------+-----------------+\n",
      "|CallNumber|count(CallNumber)|\n",
      "+----------+-----------------+\n",
      "| 242020294|                1|\n",
      "| 242020336|                3|\n",
      "| 242020323|                2|\n",
      "| 242020303|                2|\n",
      "| 242020322|                2|\n",
      "| 242020332|                1|\n",
      "| 242020301|                2|\n",
      "| 242020347|                2|\n",
      "| 242020330|                1|\n",
      "| 242020343|                3|\n",
      "| 242020318|                1|\n",
      "| 242020337|                1|\n",
      "+----------+-----------------+\n",
      "\n"
     ]
    }
   ],
   "source": [
    "fire_df = spark.read.option(\"header\", \"True\").option(\"inferSchema\", \"True\").csv(\"data/sample.csv\")\n",
    "\n",
    "#partioned data for the group by similar data into one column\n",
    "partitioned_df = fire_df.repartition(2)\n",
    "\n",
    "count_df=partitioned_df.select(\"CallNumber\",\"CallType\").where(fire_df[\"CallType\"] == \"Medical Incident\").groupBy(\"CallNumber\")\\\n",
    ".agg(count(fire_df[\"CallNumber\"])).alias(\"count\")\n",
    "\n",
    "logger.info(count_df.collect())\n",
    "count_df.show()\n",
    "\n"
   ]
  },
  {
   "cell_type": "code",
   "execution_count": null,
   "metadata": {},
   "outputs": [],
   "source": []
  },
  {
   "cell_type": "code",
   "execution_count": null,
   "metadata": {},
   "outputs": [],
   "source": []
  }
 ],
 "metadata": {
  "kernelspec": {
   "display_name": "Python 3",
   "language": "python",
   "name": "python3"
  },
  "language_info": {
   "codemirror_mode": {
    "name": "ipython",
    "version": 3
   },
   "file_extension": ".py",
   "mimetype": "text/x-python",
   "name": "python",
   "nbconvert_exporter": "python",
   "pygments_lexer": "ipython3",
   "version": "3.11.9"
  }
 },
 "nbformat": 4,
 "nbformat_minor": 2
}
