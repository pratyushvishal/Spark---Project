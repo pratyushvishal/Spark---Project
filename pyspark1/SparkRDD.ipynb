{
 "cells": [
  {
   "cell_type": "code",
   "execution_count": 12,
   "metadata": {},
   "outputs": [
    {
     "name": "stdout",
     "output_type": "stream",
     "text": [
      "CallNumber,UnitID,IncidentNumber,CallType,CallDate,WatchDate,ReceivedDtTm,EntryDtTm,DispatchDtTm,ResponseDtTm,CallFinalDisposition,City,Zipcode,Battalion,StationArea,Box,Priority,FinalPriority,ALSUnit,CallTypeGroup,NumberofAlarms,UnitType,Neighborhooods,RowID,case_location,data_as_of,data_loaded_at,Analysis_Neighborhoods\n",
      "242020347,E19,24099290,Medical Incident,07/20/2024,07/19/2024,07/20/2024 03:25:59 AM,07/20/2024 03:27:50 AM,07/20/2024 03:28:57 AM,,Other,San Francisco,94132,B08,19,8424,3,3,TRUE,Potentially Life-Threatening,1,ENGINE,Lakeshore,242020347-E19,POINT (-122.477173791 37.718014352),07/20/2024 03:29:37 AM,07/20/2024 04:12:07 AM,16\n",
      "242020347,M577,24099290,Medical Incident,07/20/2024,07/19/2024,07/20/2024 03:25:59 AM,07/20/2024 03:27:50 AM,07/20/2024 03:28:57 AM,07/20/2024 03:29:02 AM,Other,San Francisco,94132,B08,19,8424,3,3,TRUE,Potentially Life-Threatening,1,MEDIC,Lakeshore,242020347-M577,POINT (-122.477173791 37.718014352),07/20/2024 03:29:37 AM,07/20/2024 04:12:07 AM,16\n",
      "242020342,M576,24099288,Other,07/20/2024,07/19/2024,07/20/2024 03:23:47 AM,07/20/2024 03:23:47 AM,07/20/2024 03:24:29 AM,07/20/2024 03:28:59 AM,Other,San Francisco,94116,B08,18,7646,B,2,TRUE,Non Life-threatening,1,MEDIC,Sunset/Parkside,242020342-M576,POINT (-122.502060321 37.751239765),07/20/2024 03:29:37 AM,07/20/2024 04:12:07 AM,35\n",
      "242020343,RC2,24099289,Medical Incident,07/20/2024,07/19/2024,07/20/2024 03:23:41 AM,07/20/2024 03:24:36 AM,07/20/2024 03:28:19 AM,,Other,San Francisco,94115,B05,10,4235,3,3,FALSE,Potentially Life-Threatening,1,RESCUE CAPTAIN,Presidio Heights,242020343-RC2,POINT (-122.442989105 37.783897368),07/20/2024 03:29:37 AM,07/20/2024 04:12:07 AM,31\n",
      "242020343,M558,24099289,Medical Incident,07/20/2024,07/19/2024,07/20/2024 03:23:41 AM,07/20/2024 03:24:36 AM,07/20/2024 03:25:18 AM,07/20/2024 03:25:48 AM,Other,San Francisco,94115,B05,10,4235,3,3,TRUE,Potentially Life-Threatening,1,MEDIC,Presidio Heights,242020343-M558,POINT (-122.442989105 37.783897368),07/20/2024 03:29:37 AM,07/20/2024 04:12:07 AM,31\n",
      "242020343,E10,24099289,Medical Incident,07/20/2024,07/19/2024,07/20/2024 03:23:41 AM,07/20/2024 03:24:36 AM,07/20/2024 03:25:18 AM,07/20/2024 03:26:39 AM,Other,San Francisco,94115,B05,10,4235,3,3,TRUE,Potentially Life-Threatening,1,ENGINE,Presidio Heights,242020343-E10,POINT (-122.442989105 37.783897368),07/20/2024 03:29:37 AM,07/20/2024 04:12:07 AM,31\n",
      "242020337,M563,24099287,Medical Incident,07/20/2024,07/19/2024,07/20/2024 03:15:46 AM,07/20/2024 03:19:42 AM,07/20/2024 03:22:29 AM,07/20/2024 03:22:42 AM,Other,San Francisco,94109,B04,3,1557,2,2,TRUE,Potentially Life-Threatening,1,MEDIC,Nob Hill,242020337-M563,POINT (-122.416827154 37.788177891),07/20/2024 03:29:37 AM,07/20/2024 04:12:07 AM,21\n",
      "242020336,M580,24099286,Medical Incident,07/20/2024,07/19/2024,07/20/2024 03:15:38 AM,07/20/2024 03:17:56 AM,07/20/2024 03:18:39 AM,07/20/2024 03:18:44 AM,Other,San Francisco,94109,B04,3,1557,3,3,TRUE,Potentially Life-Threatening,1,MEDIC,Nob Hill,242020336-M580,POINT (-122.418465027 37.787966286),07/20/2024 03:29:37 AM,07/20/2024 04:12:07 AM,21\n",
      "242020336,M566,24099286,Medical Incident,07/20/2024,07/19/2024,07/20/2024 03:15:38 AM,07/20/2024 03:17:56 AM,07/20/2024 03:19:54 AM,07/20/2024 03:19:54 AM,Other,San Francisco,94109,B04,3,1557,3,3,TRUE,Potentially Life-Threatening,1,MEDIC,Nob Hill,242020336-M566,POINT (-122.418465027 37.787966286),07/20/2024 03:29:37 AM,07/20/2024 04:12:07 AM,21\n",
      "242020336,E03,24099286,Medical Incident,07/20/2024,07/19/2024,07/20/2024 03:15:38 AM,07/20/2024 03:17:56 AM,07/20/2024 03:18:39 AM,07/20/2024 03:20:47 AM,Other,San Francisco,94109,B04,3,1557,3,3,TRUE,Potentially Life-Threatening,1,ENGINE,Nob Hill,242020336-E03,POINT (-122.418465027 37.787966286),07/20/2024 03:29:37 AM,07/20/2024 04:12:07 AM,21\n",
      "242020332,M505,24099285,Medical Incident,07/20/2024,07/19/2024,07/20/2024 03:14:32 AM,07/20/2024 03:17:17 AM,07/20/2024 03:20:03 AM,07/20/2024 03:20:18 AM,Other,San Francisco,94102,B03,3,1453,2,2,TRUE,Non Life-threatening,1,MEDIC,Tenderloin,242020332-M505,POINT (-122.410951618 37.784141012),07/20/2024 03:29:37 AM,07/20/2024 04:12:07 AM,36\n",
      "242020330,T11,24099284,Medical Incident,07/20/2024,07/19/2024,07/20/2024 03:13:45 AM,07/20/2024 03:15:25 AM,07/20/2024 03:15:39 AM,07/20/2024 03:20:11 AM,Fire,San Francisco,94131,B06,11,5564,2,2,FALSE,Non Life-threatening,1,TRUCK,Noe Valley,242020330-T11,POINT (-122.431022327 37.742630877),07/20/2024 03:29:37 AM,07/20/2024 04:12:07 AM,22\n",
      "242020323,M554,24099283,Medical Incident,07/20/2024,07/19/2024,07/20/2024 03:11:41 AM,07/20/2024 03:12:41 AM,07/20/2024 03:13:02 AM,07/20/2024 03:13:11 AM,Other,San Francisco,94112,B09,43,6127,3,3,TRUE,Potentially Life-Threatening,1,MEDIC,Excelsior,242020323-M554,POINT (-122.433231487 37.723932438),07/20/2024 03:29:37 AM,07/20/2024 04:12:07 AM,7\n",
      "242020323,E43,24099283,Medical Incident,07/20/2024,07/19/2024,07/20/2024 03:11:41 AM,07/20/2024 03:12:41 AM,07/20/2024 03:13:02 AM,07/20/2024 03:15:59 AM,Other,San Francisco,94112,B09,43,6127,3,3,TRUE,Potentially Life-Threatening,1,ENGINE,Excelsior,242020323-E43,POINT (-122.433231487 37.723932438),07/20/2024 03:29:37 AM,07/20/2024 04:12:07 AM,7\n",
      "242020322,M555,24099282,Medical Incident,07/20/2024,07/19/2024,07/20/2024 03:09:33 AM,07/20/2024 03:11:06 AM,07/20/2024 03:11:57 AM,07/20/2024 03:12:15 AM,Other,San Francisco,94103,B02,36,5123,2,2,TRUE,Non Life-threatening,1,MEDIC,Mission,242020322-M555,POINT (-122.420032091 37.769045446),07/20/2024 03:29:37 AM,07/20/2024 04:12:07 AM,20\n",
      "242020322,SCRT10,24099282,Medical Incident,07/20/2024,07/19/2024,07/20/2024 03:09:33 AM,07/20/2024 03:11:06 AM,07/20/2024 03:21:46 AM,07/20/2024 03:22:01 AM,Other,San Francisco,94103,B02,36,5123,2,2,FALSE,Non Life-threatening,1,CP,Mission,242020322-SCRT10,POINT (-122.420032091 37.769045446),07/20/2024 03:29:37 AM,07/20/2024 04:12:07 AM,20\n",
      "242020318,M562,24099281,Medical Incident,07/20/2024,07/19/2024,07/20/2024 03:03:43 AM,07/20/2024 03:03:43 AM,07/20/2024 03:05:36 AM,07/20/2024 03:05:59 AM,Other,San Francisco,94110,B02,7,5247,C,2,TRUE,Non Life-threatening,1,MEDIC,Mission,242020318-M562,POINT (-122.421694846 37.762916815),07/20/2024 03:29:37 AM,07/20/2024 04:12:07 AM,20\n",
      "242020308,T10,24099280,Alarms,07/20/2024,07/19/2024,07/20/2024 02:54:15 AM,07/20/2024 02:55:57 AM,07/20/2024 02:56:01 AM,07/20/2024 02:58:35 AM,Fire,San Francisco,94118,B05,10,4455,3,3,FALSE,Alarm,1,TRUCK,Lone Mountain/USF,242020308-T10,POINT (-122.449047323 37.782177438),07/20/2024 03:29:37 AM,07/20/2024 04:12:07 AM,18\n",
      "242020308,E10,24099280,Alarms,07/20/2024,07/19/2024,07/20/2024 02:54:15 AM,07/20/2024 02:55:57 AM,07/20/2024 02:56:01 AM,07/20/2024 02:57:20 AM,Fire,San Francisco,94118,B05,10,4455,3,3,TRUE,Alarm,1,ENGINE,Lone Mountain/USF,242020308-E10,POINT (-122.449047323 37.782177438),07/20/2024 03:29:37 AM,07/20/2024 04:12:07 AM,18\n",
      "242020308,B05,24099280,Alarms,07/20/2024,07/19/2024,07/20/2024 02:54:15 AM,07/20/2024 02:55:57 AM,07/20/2024 02:56:01 AM,07/20/2024 02:58:35 AM,Fire,San Francisco,94118,B05,10,4455,3,3,FALSE,Alarm,1,CHIEF,Lone Mountain/USF,242020308-B05,POINT (-122.449047323 37.782177438),07/20/2024 03:29:37 AM,07/20/2024 04:12:07 AM,18\n",
      "242020303,AM120,24099279,Medical Incident,07/20/2024,07/19/2024,07/20/2024 02:50:59 AM,07/20/2024 02:52:10 AM,07/20/2024 02:52:40 AM,07/20/2024 03:01:45 AM,Code 2 Transport,San Francisco,94107,B03,8,2154,3,3,FALSE,Potentially Life-Threatening,1,PRIVATE,Mission Bay,242020303-AM120,POINT (-122.38975356 37.781220707),07/20/2024 03:29:37 AM,07/20/2024 04:12:07 AM,4\n",
      "242020303,E08,24099279,Medical Incident,07/20/2024,07/19/2024,07/20/2024 02:50:59 AM,07/20/2024 02:52:10 AM,07/20/2024 02:52:40 AM,07/20/2024 02:54:59 AM,Code 2 Transport,San Francisco,94107,B03,8,2154,3,3,TRUE,Potentially Life-Threatening,1,ENGINE,Mission Bay,242020303-E08,POINT (-122.38975356 37.781220707),07/20/2024 03:29:37 AM,07/20/2024 04:12:07 AM,4\n",
      "242020301,M567,24099278,Medical Incident,07/20/2024,07/19/2024,07/20/2024 02:48:35 AM,07/20/2024 02:51:41 AM,07/20/2024 02:53:40 AM,07/20/2024 02:57:43 AM,Other,San Francisco,94122,B08,18,7534,2,2,TRUE,Non Life-threatening,1,MEDIC,Sunset/Parkside,242020301-M567,POINT (-122.48959133 37.757400429),07/20/2024 03:29:37 AM,07/20/2024 04:12:07 AM,35\n",
      "242020301,AM116,24099278,Medical Incident,07/20/2024,07/19/2024,07/20/2024 02:48:35 AM,07/20/2024 02:51:41 AM,07/20/2024 02:51:50 AM,,Other,San Francisco,94122,B08,18,7534,2,2,FALSE,Non Life-threatening,1,PRIVATE,Sunset/Parkside,242020301-AM116,POINT (-122.48959133 37.757400429),07/20/2024 03:29:37 AM,07/20/2024 04:12:07 AM,35\n",
      "242020294,E33,24099277,Medical Incident,07/20/2024,07/19/2024,07/20/2024 02:45:53 AM,07/20/2024 02:47:06 AM,07/20/2024 02:47:29 AM,07/20/2024 02:49:47 AM,Code 2 Transport,San Francisco,94112,B09,33,8353,3,3,TRUE,Potentially Life-Threatening,1,ENGINE,Outer Mission,242020294-E33,POINT (-122.45454674 37.710207254),07/20/2024 03:29:37 AM,07/20/2024 04:12:07 AM,28\n"
     ]
    }
   ],
   "source": [
    "from collections import namedtuple\n",
    "from pyspark import SparkConf, SparkContext\n",
    "from pyspark.sql import SparkSession\n",
    "\n",
    "# Modify the namedtuple to match your CSV schema\n",
    "SurveyRecord = namedtuple(\"SurveyRecord\", [\"CallNumber\", \"CallType\"])\n",
    "\n",
    "if __name__ == \"__main__\":\n",
    "\n",
    "    conf = SparkConf() \\\n",
    "        .setMaster(\"local[3]\") \\\n",
    "        .setAppName(\"SparkRDD\")\n",
    "\n",
    "    spark = SparkSession.builder.config(conf=conf).getOrCreate()\n",
    "\n",
    "    sc = spark.sparkContext\n",
    "\n",
    "    # Read the CSV file as an RDD\n",
    "    linesRDD = sc.textFile(\"data/sample.csv\")\n",
    "\n",
    "    colsList = linesRDD.collect()\n",
    "\n",
    "    for x in colsList:\n",
    "        print(x)\n"
   ]
  },
  {
   "cell_type": "code",
   "execution_count": null,
   "metadata": {},
   "outputs": [],
   "source": []
  }
 ],
 "metadata": {
  "kernelspec": {
   "display_name": "Python 3",
   "language": "python",
   "name": "python3"
  },
  "language_info": {
   "codemirror_mode": {
    "name": "ipython",
    "version": 3
   },
   "file_extension": ".py",
   "mimetype": "text/x-python",
   "name": "python",
   "nbconvert_exporter": "python",
   "pygments_lexer": "ipython3",
   "version": "3.11.9"
  }
 },
 "nbformat": 4,
 "nbformat_minor": 2
}
